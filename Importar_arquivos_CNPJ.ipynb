{
 "cells": [
  {
   "cell_type": "markdown",
   "metadata": {},
   "source": [
    "<H2>Funções para download dos arquivos dos Dados Públicos CNPJ"
   ]
  },
  {
   "cell_type": "code",
   "execution_count": 1,
   "metadata": {},
   "outputs": [],
   "source": [
    "#Importar bibliotecas\n",
    "import requests\n",
    "import os"
   ]
  },
  {
   "cell_type": "code",
   "execution_count": 2,
   "metadata": {},
   "outputs": [
    {
     "name": "stdout",
     "output_type": "stream",
     "text": [
      "Donwload finalizado. Salvo em: F:\\DadosCNPJ202103\\K3241.K03200Y0.D10313.EMPRECSV.zip\n",
      "Donwload finalizado. Salvo em: F:\\DadosCNPJ202103\\K3241.K03200Y1.D10313.EMPRECSV.zip\n",
      "Donwload finalizado. Salvo em: F:\\DadosCNPJ202103\\K3241.K03200Y2.D10313.EMPRECSV.zip\n",
      "Donwload finalizado. Salvo em: F:\\DadosCNPJ202103\\K3241.K03200Y3.D10313.EMPRECSV.zip\n",
      "Donwload finalizado. Salvo em: F:\\DadosCNPJ202103\\K3241.K03200Y4.D10313.EMPRECSV.zip\n",
      "Donwload finalizado. Salvo em: F:\\DadosCNPJ202103\\K3241.K03200Y5.D10313.EMPRECSV.zip\n",
      "Donwload finalizado. Salvo em: F:\\DadosCNPJ202103\\K3241.K03200Y6.D10313.EMPRECSV.zip\n",
      "Donwload finalizado. Salvo em: F:\\DadosCNPJ202103\\K3241.K03200Y7.D10313.EMPRECSV.zip\n",
      "Donwload finalizado. Salvo em: F:\\DadosCNPJ202103\\K3241.K03200Y8.D10313.EMPRECSV.zip\n",
      "Donwload finalizado. Salvo em: F:\\DadosCNPJ202103\\K3241.K03200Y9.D10313.EMPRECSV.zip\n"
     ]
    }
   ],
   "source": [
    "def baixar_empresa(url, endereco):\n",
    "    # faz requisição ao servidor\n",
    "    resposta = requests.get(url)\n",
    "    if resposta.status_code == requests.codes.OK:\n",
    "        with open(endereco, 'wb') as novo_arquivo:\n",
    "            novo_arquivo.write(resposta.content)\n",
    "        print(\"Donwload finalizado. Salvo em: {}\".format(endereco))\n",
    "    else:\n",
    "        resposta.raise_for_status()\n",
    "\n",
    "if __name__ == \"__main__\":\n",
    "    BASE_URL = 'http://200.152.38.155/CNPJ/K3241.K03200Y{}.D10313.EMPRECSV.zip'\n",
    "    OUTPUT_DIR = 'F:\\DadosCNPJ202103' #Informar o caminho da pasta de destino dos arquivos\n",
    "    for i in range(0, 10):\n",
    "        nome_arquivo = os.path.join(OUTPUT_DIR, 'K3241.K03200Y{}.D10313.EMPRECSV.zip'.format(i))\n",
    "        baixar_empresa(BASE_URL.format(i), nome_arquivo)"
   ]
  },
  {
   "cell_type": "code",
   "execution_count": 3,
   "metadata": {},
   "outputs": [
    {
     "name": "stdout",
     "output_type": "stream",
     "text": [
      "Donwload finalizado. Salvo em: F:\\DadosCNPJ202103\\K3241.K03200Y0.D10313.ESTABELE.zip\n",
      "Donwload finalizado. Salvo em: F:\\DadosCNPJ202103\\K3241.K03200Y1.D10313.ESTABELE.zip\n",
      "Donwload finalizado. Salvo em: F:\\DadosCNPJ202103\\K3241.K03200Y2.D10313.ESTABELE.zip\n",
      "Donwload finalizado. Salvo em: F:\\DadosCNPJ202103\\K3241.K03200Y3.D10313.ESTABELE.zip\n",
      "Donwload finalizado. Salvo em: F:\\DadosCNPJ202103\\K3241.K03200Y4.D10313.ESTABELE.zip\n",
      "Donwload finalizado. Salvo em: F:\\DadosCNPJ202103\\K3241.K03200Y5.D10313.ESTABELE.zip\n",
      "Donwload finalizado. Salvo em: F:\\DadosCNPJ202103\\K3241.K03200Y6.D10313.ESTABELE.zip\n",
      "Donwload finalizado. Salvo em: F:\\DadosCNPJ202103\\K3241.K03200Y7.D10313.ESTABELE.zip\n",
      "Donwload finalizado. Salvo em: F:\\DadosCNPJ202103\\K3241.K03200Y8.D10313.ESTABELE.zip\n",
      "Donwload finalizado. Salvo em: F:\\DadosCNPJ202103\\K3241.K03200Y9.D10313.ESTABELE.zip\n"
     ]
    }
   ],
   "source": [
    "def baixar_estab(url, endereco):\n",
    "    # faz requisição ao servidor\n",
    "    resposta = requests.get(url)\n",
    "    if resposta.status_code == requests.codes.OK:\n",
    "        with open(endereco, 'wb') as novo_arquivo:\n",
    "            novo_arquivo.write(resposta.content)\n",
    "        print(\"Donwload finalizado. Salvo em: {}\".format(endereco))\n",
    "    else:\n",
    "        resposta.raise_for_status()\n",
    "\n",
    "if __name__ == \"__main__\":\n",
    "    BASE_URL = 'http://200.152.38.155/CNPJ/K3241.K03200Y{}.D10313.ESTABELE.zip'\n",
    "    OUTPUT_DIR = 'F:\\DadosCNPJ202103'#Informar o caminho da pasta de destino dos arquivos\n",
    "    for i in range(0, 10):\n",
    "        nome_arquivo = os.path.join(OUTPUT_DIR, 'K3241.K03200Y{}.D10313.ESTABELE.zip'.format(i))\n",
    "        baixar_estab(BASE_URL.format(i), nome_arquivo)"
   ]
  },
  {
   "cell_type": "code",
   "execution_count": 8,
   "metadata": {},
   "outputs": [
    {
     "name": "stdout",
     "output_type": "stream",
     "text": [
      "Donwload finalizado. Salvo em: F:\\DadosCNPJ202103\\K3241.K03200Y0.D10313.SOCIOCSV.zip\n",
      "Donwload finalizado. Salvo em: F:\\DadosCNPJ202103\\K3241.K03200Y1.D10313.SOCIOCSV.zip\n",
      "Donwload finalizado. Salvo em: F:\\DadosCNPJ202103\\K3241.K03200Y2.D10313.SOCIOCSV.zip\n",
      "Donwload finalizado. Salvo em: F:\\DadosCNPJ202103\\K3241.K03200Y3.D10313.SOCIOCSV.zip\n",
      "Donwload finalizado. Salvo em: F:\\DadosCNPJ202103\\K3241.K03200Y4.D10313.SOCIOCSV.zip\n",
      "Donwload finalizado. Salvo em: F:\\DadosCNPJ202103\\K3241.K03200Y5.D10313.SOCIOCSV.zip\n",
      "Donwload finalizado. Salvo em: F:\\DadosCNPJ202103\\K3241.K03200Y6.D10313.SOCIOCSV.zip\n",
      "Donwload finalizado. Salvo em: F:\\DadosCNPJ202103\\K3241.K03200Y7.D10313.SOCIOCSV.zip\n",
      "Donwload finalizado. Salvo em: F:\\DadosCNPJ202103\\K3241.K03200Y8.D10313.SOCIOCSV.zip\n",
      "Donwload finalizado. Salvo em: F:\\DadosCNPJ202103\\K3241.K03200Y9.D10313.SOCIOCSV.zip\n"
     ]
    }
   ],
   "source": [
    "def baixar_socio(url, endereco):\n",
    "    # faz requisição ao servidor\n",
    "    resposta = requests.get(url)\n",
    "    if resposta.status_code == requests.codes.OK:\n",
    "        with open(endereco, 'wb') as novo_arquivo:\n",
    "            novo_arquivo.write(resposta.content)\n",
    "        print(\"Donwload finalizado. Salvo em: {}\".format(endereco))\n",
    "    else:\n",
    "        resposta.raise_for_status()\n",
    "\n",
    "if __name__ == \"__main__\":\n",
    "    BASE_URL = 'http://200.152.38.155/CNPJ/K3241.K03200Y{}.D10313.SOCIOCSV.zip'\n",
    "    OUTPUT_DIR = 'F:\\DadosCNPJ202103'#Informar o caminho da pasta de destino dos arquivos\n",
    "    for i in range(0, 10):\n",
    "        nome_arquivo = os.path.join(OUTPUT_DIR, 'K3241.K03200Y{}.D10313.SOCIOCSV.zip'.format(i))\n",
    "        baixar_socio(BASE_URL.format(i), nome_arquivo)"
   ]
  },
  {
   "cell_type": "code",
   "execution_count": null,
   "metadata": {},
   "outputs": [],
   "source": []
  }
 ],
 "metadata": {
  "kernelspec": {
   "display_name": "Python 3",
   "language": "python",
   "name": "python3"
  },
  "language_info": {
   "codemirror_mode": {
    "name": "ipython",
    "version": 3
   },
   "file_extension": ".py",
   "mimetype": "text/x-python",
   "name": "python",
   "nbconvert_exporter": "python",
   "pygments_lexer": "ipython3",
   "version": "3.8.5"
  }
 },
 "nbformat": 4,
 "nbformat_minor": 4
}
